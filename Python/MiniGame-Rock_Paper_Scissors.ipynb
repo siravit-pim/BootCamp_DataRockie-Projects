{
  "nbformat": 4,
  "nbformat_minor": 0,
  "metadata": {
    "colab": {
      "provenance": [],
      "authorship_tag": "ABX9TyNZqE22AKb6ppWroE80Iavm",
      "include_colab_link": true
    },
    "kernelspec": {
      "name": "python3",
      "display_name": "Python 3"
    },
    "language_info": {
      "name": "python"
    }
  },
  "cells": [
    {
      "cell_type": "markdown",
      "metadata": {
        "id": "view-in-github",
        "colab_type": "text"
      },
      "source": [
        "<a href=\"https://colab.research.google.com/github/zkiddy/BootCamp_DataRockie-Projects/blob/main/MiniGame-Rock_Paper_Scissors.ipynb\" target=\"_parent\"><img src=\"https://colab.research.google.com/assets/colab-badge.svg\" alt=\"Open In Colab\"/></a>"
      ]
    },
    {
      "cell_type": "code",
      "execution_count": 1,
      "metadata": {
        "colab": {
          "base_uri": "https://localhost:8080/"
        },
        "id": "dmwTYFegGGs3",
        "outputId": "bb2e6d16-de29-45ca-ce93-a5e73dd32881"
      },
      "outputs": [
        {
          "output_type": "stream",
          "name": "stdout",
          "text": [
            "What your name? : Kiddy\n",
            "Hi Kiddy. Wellcome to game 'Rock-Paper-Scissors'\n",
            "Are you ready.\n",
            "Let’s play Rock–Paper–Scissors !!\n",
            "---------------------------\n",
            "1.Rock\n",
            "2.Paper\n",
            "3.Scissors\n",
            "Please choose the 'number' 1-3 : 2\n",
            "You : Paper\n",
            "Computer : Scissors\n",
            "*** You Loss ***\n",
            "-------------\n",
            "1.Yes \n",
            "2.No\n",
            "You want to try again ? : 1\n",
            "---------------------------\n",
            "1.Rock\n",
            "2.Paper\n",
            "3.Scissors\n",
            "Please choose the 'number' 1-3 : 3\n",
            "You : Scissors\n",
            "Computer : Paper\n",
            "*** You Win ***\n",
            "-------------\n",
            "1.Yes \n",
            "2.No\n",
            "You want to try again ? : 1\n",
            "---------------------------\n",
            "1.Rock\n",
            "2.Paper\n",
            "3.Scissors\n",
            "Please choose the 'number' 1-3 : 1\n",
            "You : Rock\n",
            "Computer : Rock\n",
            "*** It Draw ***\n",
            "-------------\n",
            "1.Yes \n",
            "2.No\n",
            "You want to try again ? : 1\n",
            "---------------------------\n",
            "1.Rock\n",
            "2.Paper\n",
            "3.Scissors\n",
            "Please choose the 'number' 1-3 : 1\n",
            "You : Rock\n",
            "Computer : Rock\n",
            "*** It Draw ***\n",
            "-------------\n",
            "1.Yes \n",
            "2.No\n",
            "You want to try again ? : 2\n",
            "Kiddy Score\n",
            "   Win : 1\n",
            "  Loss : 1\n",
            "  Draw : 2\n"
          ]
        }
      ],
      "source": [
        "#MiniGame - Rock-Paper-Scissors\n",
        "import random\n",
        "\n",
        "def game():\n",
        "    name = input(\"What your name? : \")\n",
        "    print(f\"Hi {name}. Wellcome to game 'Rock-Paper-Scissors'\")    \n",
        "    print(\"Are you ready.\\nLet’s play Rock–Paper–Scissors !!\")\n",
        "\n",
        "    you_win = 0\n",
        "    you_loss = 0\n",
        "    draw = 0\n",
        "        \n",
        "    while True :\n",
        "        \n",
        "        choice = [\"None\",\"Rock\",\"Paper\",\"Scissors\"]\n",
        "        \n",
        "        print(\"---------------------------\")\n",
        "        print(\"1.Rock\\n2.Paper\\n3.Scissors\")\n",
        "        you_choice = int(input(\"Please choose the 'number' 1-3 : \"))\n",
        "        you = choice[you_choice]\n",
        "        ai = random.choice(choice)\n",
        "        print(f\"You : {you}\\nComputer : {ai}\")\n",
        "        if (you == \"Rock\" and ai == \"Scissors\") or (you == \"Paper\" and ai == \"Rock\") or (you == \"Scissors\" and ai == \"Paper\") :\n",
        "            you_win += 1\n",
        "            print(\"*** You Win ***\")\n",
        "        elif (you == \"Rock\" and ai == \"Paper\") or (you == \"Paper\" and ai == \"Scissors\") or (you == \"Scissors\" and ai == \"Rock\") :\n",
        "            you_loss += 1\n",
        "            print(\"*** You Loss ***\")\n",
        "        else :         \n",
        "            draw += 1\n",
        "            print(\"*** It Draw ***\")\n",
        "        \n",
        "        print(\"-------------\")\n",
        "        print(\"1.Yes \\n2.No\")\n",
        "        if int(input(\"You want to try again ? : \")) == 2:\n",
        "            print(f\"{name} Score\")\n",
        "            print(f\"   Win : {you_win}\")\n",
        "            print(f\"  Loss : {you_loss}\")\n",
        "            print(f\"  Draw : {draw}\")\n",
        "            break\n",
        "game()"
      ]
    }
  ]
}
